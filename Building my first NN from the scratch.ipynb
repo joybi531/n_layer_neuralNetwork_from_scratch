{
 "cells": [
  {
   "cell_type": "code",
   "execution_count": 25,
   "metadata": {},
   "outputs": [
    {
     "name": "stdout",
     "output_type": "stream",
     "text": [
      "The autoreload extension is already loaded. To reload it, use:\n",
      "  %reload_ext autoreload\n"
     ]
    }
   ],
   "source": [
    "import numpy as np\n",
    "import matplotlib.pyplot as plt\n",
    "import h5py\n",
    "import time\n",
    "\n",
    "%matplotlib inline\n",
    "\n",
    "plt.rcParams['figure.figsize'] = (5.0, 4.0)\n",
    "plt.rcParams['image.interpolation'] = 'nearest'\n",
    "plt.rcParams['image.cmap'] = 'gray'\n",
    "\n",
    "%load_ext autoreload\n",
    "%autoreload 2\n",
    "\n",
    "np.random.seed(31)"
   ]
  },
  {
   "cell_type": "markdown",
   "metadata": {},
   "source": [
    "# Activaton Functions Definition"
   ]
  },
  {
   "cell_type": "code",
   "execution_count": 3,
   "metadata": {},
   "outputs": [],
   "source": [
    "### Sigmoid functions ----> forward and backward\n",
    "\n",
    "def sigmoid(Z):\n",
    "    A = 1 / (1 + np.exp(-Z))\n",
    "    #print(\"\\nShape of A after sigmoidizing-->\", A.shape)\n",
    "    cache = Z\n",
    "    \n",
    "    return A, cache\n",
    "\n",
    "def sigmoid_backward(dA, cache):\n",
    "    Z = cache\n",
    "    s = 1 / (1 + np.exp(-Z))\n",
    "    dZ = dA * s * (1-s)\n",
    "    \n",
    "    assert(dZ.shape == Z.shape)\n",
    "    \n",
    "    return dZ\n",
    "\n",
    "\n",
    "### Relu functions ----> forward and backward\n",
    "\n",
    "def relu(Z):\n",
    "    A = np.maximum(0, Z)\n",
    "    cache = Z\n",
    "    \n",
    "    assert(A.shape == Z.shape)\n",
    "    return A, cache\n",
    "\n",
    "def relu_backward(dA, cache):\n",
    "    Z = cache\n",
    "    dZ = np.array(dA, copy = True)\n",
    "    dZ[Z <= 0] = 0\n",
    "    \n",
    "    assert(dZ.shape == Z.shape)\n",
    "    return dZ"
   ]
  },
  {
   "cell_type": "markdown",
   "metadata": {},
   "source": [
    "# Initialize Parameters"
   ]
  },
  {
   "cell_type": "code",
   "execution_count": 4,
   "metadata": {},
   "outputs": [],
   "source": [
    "def init_parameters(layer_dims):\n",
    "    parameters = {}\n",
    "    np.random.seed(31)\n",
    "    \n",
    "    for i in range(1, len(layer_dims)):\n",
    "        \n",
    "        parameters['W' + str(i)] = np.random.randn(layer_dims[i], layer_dims[i-1]) * 0.01\n",
    "        parameters['b' + str(i)] = np.zeros((layer_dims[i], 1))\n",
    "\n",
    "        assert( parameters['W' + str(i)].shape == (layer_dims[i], layer_dims[i-1]) )\n",
    "        assert( parameters['b' + str(i)].shape == (layer_dims[i], 1) )\n",
    "\n",
    "    return parameters"
   ]
  },
  {
   "cell_type": "code",
   "execution_count": null,
   "metadata": {},
   "outputs": [],
   "source": [
    "param = init_parameters([5, 3, 3, 2])\n",
    "param"
   ]
  },
  {
   "cell_type": "markdown",
   "metadata": {},
   "source": [
    "# Feed Forward Model"
   ]
  },
  {
   "cell_type": "code",
   "execution_count": 5,
   "metadata": {},
   "outputs": [],
   "source": [
    "def feed_forward_model(train_data, parameters):\n",
    "    \n",
    "    A = train_data\n",
    "    L = len(parameters) // 2\n",
    "    caches = {}\n",
    "    \n",
    "    for i in range(1, L):\n",
    "        A_prev = A\n",
    "        W = parameters['W'+ str(i)]\n",
    "        b = parameters['b'+ str(i)]\n",
    "        \n",
    "        Z = np.dot(W , A_prev) + b\n",
    "        assert(Z.shape == (W.shape[0], A_prev.shape[1]))\n",
    "        caches['linear' + str(i)] = (A_prev, W, b)\n",
    "        \n",
    "        A, caches['activation' + str(i)] = relu(Z)\n",
    "        assert(A.shape == (W.shape[0], A_prev.shape[1]))\n",
    "        \n",
    "    \n",
    "    Z = np.dot(parameters['W'+str(L)], A) + parameters['b' + str(L)]    \n",
    "    assert(Z.shape == (parameters['W'+str(L)].shape[0], A.shape[1]))\n",
    "    \n",
    "    \n",
    "    AL, caches['activation' + str(L)] = sigmoid(Z)\n",
    "    assert(AL.shape == (parameters['W'+str(L)].shape[0], A.shape[1]))\n",
    "    \n",
    "    caches['linear' + str(L)] = (A, parameters['W'+str(L)], parameters['b'+str(L)])\n",
    "    \n",
    "    \n",
    "    return AL, caches"
   ]
  },
  {
   "cell_type": "code",
   "execution_count": null,
   "metadata": {},
   "outputs": [],
   "source": [
    "AL, caches = feed_forward_model(np.random.randn(5,7), init_param([5, 3, 3, 2]))\n",
    "print(\"\\n\" , AL.shape)\n",
    "#cache_for_back_prop = caches\n",
    "#len(cache_for_back_prop)\n",
    "\n",
    "#print(caches['activation1'].shape)\n",
    "#print(caches['activation2'].shape)\n",
    "#print(caches['activation3'].shape, type(caches['activation3']))\n",
    "#print(AL.shape, type(AL))"
   ]
  },
  {
   "cell_type": "markdown",
   "metadata": {},
   "source": [
    "# Cost Function"
   ]
  },
  {
   "cell_type": "code",
   "execution_count": 6,
   "metadata": {},
   "outputs": [],
   "source": [
    "def cost_function(AL, train_class):\n",
    "    \n",
    "    label = train_class\n",
    "    # No of training samples\n",
    "    m = label.shape[1]\n",
    "    #label = label.reshape(AL.shape)\n",
    "    \n",
    "    cost = (AL - label)**2\n",
    "    cost = (1/m) * np.cumsum(cost)[-1]\n",
    "    cost = np.squeeze(cost)\n",
    "    \n",
    "    assert(cost.shape == ())\n",
    "    \n",
    "    return cost"
   ]
  },
  {
   "cell_type": "code",
   "execution_count": null,
   "metadata": {},
   "outputs": [],
   "source": [
    "AL, caches = feed_forward_model(np.random.randn(5,7), init_param([5, 3, 3, 2]))\n",
    "Y = np.ones(14).reshape(1,14)\n",
    "\n",
    "#print(AL.shape)\n",
    "#print(Y.shape)\n",
    "\n",
    "cost = cost_function(AL, Y)\n",
    "cost"
   ]
  },
  {
   "cell_type": "markdown",
   "metadata": {},
   "source": [
    "# Back Propagation"
   ]
  },
  {
   "cell_type": "code",
   "execution_count": 7,
   "metadata": {},
   "outputs": [],
   "source": [
    "def backward_propagation(AL, train_class, caches):\n",
    "    \n",
    "    grads = {}\n",
    "    Y = train_class\n",
    "    #A_prev = AL\n",
    "    L = len(caches) // 2\n",
    "    m = AL.shape[1]\n",
    "    #Y = Y.reshape(AL.shape)\n",
    "    \n",
    "    ######## Block Starts Here ##########\n",
    "    \n",
    "    dAL = 2 * np.subtract(AL, Y)\n",
    "    \n",
    "    ######## END Here ############\n",
    "    \n",
    "    \n",
    "    ###### Block Starts Here #########\n",
    "    \n",
    "    A_prev, W , b = caches['linear' + str(L)]\n",
    "    \n",
    "    dZ = relu_backward(dAL, caches['activation' + str(L)])\n",
    "    \n",
    "    dW = (1/m) * np.dot( dZ, np.transpose(A_prev) )\n",
    "    db = (1/m) * np.sum( dZ, axis=1, keepdims=True )\n",
    "    dA_prev = np.dot( np.transpose(dW), dZ )\n",
    "    \n",
    "    assert (dA_prev.shape == A_prev.shape)\n",
    "    assert (dW.shape == W.shape)\n",
    "    assert (db.shape == b.shape)\n",
    "    ######## END Here ##########\n",
    "    \n",
    "    grads['dA' + str(L)] = dA_prev\n",
    "    grads['dW' + str(L)] = dW\n",
    "    grads['db' + str(L)] = db\n",
    "    \n",
    "    \n",
    "    for i in reversed(range(L-1)):\n",
    "          \n",
    "        ###### Block Starts Here ######### \n",
    "        A_prev, W , b = caches['linear' + str(i+1)]\n",
    "        \n",
    "        dZ = relu_backward(dA_prev, caches['activation' + str(i+1)])\n",
    "\n",
    "        dW_temp = (1/m) * np.dot( dZ, np.transpose(A_prev) )\n",
    "        db_temp = (1/m) * np.sum( dZ, axis=1, keepdims=True )\n",
    "        dA_prev_temp = np.dot( np.transpose(W), dZ )\n",
    "\n",
    "        assert (dA_prev_temp.shape == A_prev.shape)\n",
    "        assert (dW_temp.shape == W.shape)\n",
    "        assert (db_temp.shape == b.shape)\n",
    "        ######## END Here ##########\n",
    "        \n",
    "        dW_temp = (1/m) * np.dot( dZ, np.transpose(A_prev) )\n",
    "        db_temp = (1/m) * np.sum( dZ, axis=1, keepdims=True )\n",
    "        dA_prev_temp = np.dot( np.transpose(W), dZ )\n",
    "        \n",
    "        dA_prev = dA_prev_temp\n",
    "        \n",
    "        grads['dA' + str(i+1)] = dA_prev_temp\n",
    "        grads['dW' + str(i+1)] = dW_temp\n",
    "        grads['db' + str(i+1)] = db_temp\n",
    "        \n",
    "    \n",
    "    return grads"
   ]
  },
  {
   "cell_type": "code",
   "execution_count": null,
   "metadata": {},
   "outputs": [],
   "source": [
    "AL, caches = feed_forward_model(np.random.randn(5,7), init_param([5, 3, 3, 2]))\n",
    "Y = np.ones(14).reshape(1,14)\n",
    "caches = cache_for_back_prop\n",
    "\n",
    "grad_desc = backward_propagation(AL, Y, caches)\n",
    "\n",
    "#grad_desc"
   ]
  },
  {
   "cell_type": "markdown",
   "metadata": {},
   "source": [
    "# Updating parameters"
   ]
  },
  {
   "cell_type": "code",
   "execution_count": 8,
   "metadata": {},
   "outputs": [],
   "source": [
    "def update_parameters(parameters, gradient, learning_rate):\n",
    "    \n",
    "    L = len(parameters) // 2\n",
    "    \n",
    "    for i in range(L):\n",
    "        parameters['W' + str(i+1)] = parameters['W' + str(i+1)] - learning_rate * gradient['dW' + str(i+1)]\n",
    "        parameters['b' + str(i+1)] = parameters['b' + str(i+1)] - learning_rate * gradient['db' + str(i+1)]\n",
    "        \n",
    "    \n",
    "    return parameters"
   ]
  },
  {
   "cell_type": "markdown",
   "metadata": {},
   "source": [
    "# Prediction"
   ]
  },
  {
   "cell_type": "code",
   "execution_count": 9,
   "metadata": {},
   "outputs": [],
   "source": [
    "def prediction_function(data, label, parameters):\n",
    "    \n",
    "    m = data.shape[1]\n",
    "    prediction = np.zeros((1, m))\n",
    "    #label = label.reshape()\n",
    "    \n",
    "    output, caches = feed_forward_model(data, parameters)\n",
    "    \n",
    "    for i in range(0, output.shape[1]):\n",
    "        \n",
    "        if output[0, i] >= 0.5:\n",
    "            prediction[0, i] = 1\n",
    "        else:\n",
    "            prediction[0, i] = 0\n",
    "              \n",
    "    print(f'Accuracy : {(np.sum((prediction == label) / m)) * 100}%')\n",
    "    \n",
    "    return prediction"
   ]
  },
  {
   "cell_type": "code",
   "execution_count": null,
   "metadata": {
    "scrolled": true
   },
   "outputs": [],
   "source": [
    "data = np.array([[0.17,-0.21,-0.63,0.54],\n",
    "               [0.44,-0.55,0.16,0.33],\n",
    "               [0.9,0.84,0.2,0.11]])\n",
    "param = init_param([3,3,2])\n",
    "label = np.random.randint(0,2,4).reshape(1,4)\n",
    "label.shape\n",
    "prediction = prediction_function(data, label, param)"
   ]
  },
  {
   "cell_type": "markdown",
   "metadata": {},
   "source": [
    "# Mapping Mislabeled Images"
   ]
  },
  {
   "cell_type": "code",
   "execution_count": 11,
   "metadata": {},
   "outputs": [],
   "source": [
    "def print_mislabeled_images(classes, data, label, prediction):\n",
    "    X = data\n",
    "    y = label\n",
    "    p = prediction\n",
    "\n",
    "    mislabeled_indices = np.asarray(np.where((p+y) == 1))\n",
    "    num_images = len(mislabeled_indices[0])\n",
    "    plt.rcParams['figure.figsize'] = (40.0, 40.0) # set default size of plots\n",
    "    \n",
    "    for i in range(num_images):\n",
    "        index = mislabeled_indices[1][i]\n",
    "        \n",
    "        plt.subplot(2, num_images, i + 1)\n",
    "        plt.imshow(X[:,index].reshape(64,64,3), interpolation='nearest')\n",
    "        plt.axis('off')\n",
    "        plt.title(\"Prediction: \" + classes[int(p[0,index])].decode(\"utf-8\") + \" \\n Class: \" + classes[y[0,index]].decode(\"utf-8\"))\n"
   ]
  },
  {
   "cell_type": "markdown",
   "metadata": {},
   "source": [
    "# Building the one call NN function"
   ]
  },
  {
   "cell_type": "code",
   "execution_count": 56,
   "metadata": {},
   "outputs": [],
   "source": [
    "def Deep_Net(train_data, train_class, layer_dims, learning_rate, num_iterations):\n",
    "    \n",
    "    # initializing paramters\n",
    "    parameters = init_parameters(layer_dims)\n",
    "    \n",
    "    print_cost = False\n",
    "    costs = []\n",
    "    t0 = time.time()\n",
    "    \n",
    "    for i in range(0, num_iterations+1):\n",
    "        \n",
    "        t1 = time.time()\n",
    "        #training the model\n",
    "        AL, caches = feed_forward_model(train_data, parameters)\n",
    "\n",
    "        #computing cost\n",
    "        cost = cost_function(AL, train_class)\n",
    "\n",
    "        #back propagation\n",
    "        gradients = backward_propagation(AL, train_class, caches)\n",
    "\n",
    "        #updating the parameters\n",
    "        parameters = update_parameters(parameters, gradients, learning_rate)\n",
    "\n",
    "        if ( 1 and i % 100 == 0):\n",
    "            print(f'Cost after {i}th iterations = {cost}')\n",
    "            #print(f'Time taken for {i} iterations = {time.time()-t1}Sec.\\n')\n",
    "            costs.append(cost)\n",
    "    \n",
    "    print(f'Total time taken = {(time.time()-t0)}Sec.')\n",
    "    \n",
    "    print(f'\\nTraining Accuracy-->')\n",
    "    prediction = prediction_function(train_data, train_class, parameters)\n",
    "    \n",
    "    plt.plot(np.squeeze(costs))\n",
    "    plt.ylabel('cost')\n",
    "    plt.xlabel('iterations (per tens)')\n",
    "    plt.title(\"Learning rate =\" + str(learning_rate))\n",
    "    plt.show()\n",
    "    \n",
    "    \n",
    "    return parameters, prediction"
   ]
  },
  {
   "cell_type": "code",
   "execution_count": 18,
   "metadata": {},
   "outputs": [
    {
     "data": {
      "text/plain": [
       "(1, 50)"
      ]
     },
     "execution_count": 18,
     "metadata": {},
     "output_type": "execute_result"
    }
   ],
   "source": [
    "'''\n",
    "train_data = np.array([[0.17,-0.21,-0.63,0.54,0.17,-0.21],\n",
    "               [0.44,-0.55,0.16,0.33,0.54,0.17],\n",
    "               [0.9,0.84,0.2,0.11,0.54,0.17],\n",
    "               [0.44,-0.55,0.16,0.33,0.54,0.17],\n",
    "               [0.17,-0.21,-0.63,0.54,0.54,0.17]])\n",
    "'''\n",
    "np.random.seed(10)\n",
    "\n",
    "train_data1 = np.random.randn(784,50)\n",
    "train_class1 = np.random.randint(0,6,50).reshape(1,50)\n",
    "train_class1.shape\n",
    "#param, pred = Deep_Net(train_data, train_class, [784,16,16,12,3], 0.00075, 300)\n",
    "\n",
    "#print(pred)"
   ]
  },
  {
   "cell_type": "code",
   "execution_count": null,
   "metadata": {},
   "outputs": [],
   "source": [
    "print('Test prediction-->')\n",
    "test_pred = prediction_function(np.random.randn(784,20), np.random.randint(0,6,20).reshape(1,20), param)\n"
   ]
  },
  {
   "cell_type": "markdown",
   "metadata": {},
   "source": [
    "# Loading Dataset"
   ]
  },
  {
   "cell_type": "code",
   "execution_count": 38,
   "metadata": {},
   "outputs": [],
   "source": [
    "## Load train_data_set\n",
    "\n",
    "with h5py.File(r'C:\\Users\\Asif\\Desktop\\DeepLearning_Codes_Python\\Deep-Learning-Coursera-master2222\\My_notebooks/train_catvnoncat.h5', 'r') as train_dset:\n",
    "    ls = list(train_dset.keys())\n",
    "    \n",
    "    classes = train_dset.get('list_classes')\n",
    "    classes = np.array(classes)\n",
    "    \n",
    "    data = train_dset.get('train_set_x')\n",
    "    train_x = np.array(data)\n",
    "    \n",
    "    label = train_dset.get('train_set_y')\n",
    "    train_y = np.array(label)\n",
    "    \n",
    "\n",
    "#classes[0]\n",
    "#train_x.shape\n",
    "#train_y.shape"
   ]
  },
  {
   "cell_type": "code",
   "execution_count": 39,
   "metadata": {},
   "outputs": [],
   "source": [
    "## Load test_data_set\n",
    "\n",
    "with h5py.File(r'C:\\Users\\Asif\\Desktop\\DeepLearning_Codes_Python\\Deep-Learning-Coursera-master2222\\My_notebooks/test_catvnoncat.h5', 'r') as test_dset:\n",
    "    ls = list(test_dset.keys())\n",
    "    \n",
    "    data = test_dset.get('test_set_x')\n",
    "    test_x = np.array(data)\n",
    "    \n",
    "    label = test_dset.get('test_set_y')\n",
    "    test_y = np.array(label)\n",
    "\n",
    "\n",
    "#test_x.shape\n",
    "#test_y.shape"
   ]
  },
  {
   "cell_type": "markdown",
   "metadata": {},
   "source": [
    "# Observing Data"
   ]
  },
  {
   "cell_type": "code",
   "execution_count": null,
   "metadata": {},
   "outputs": [],
   "source": [
    "idx_image = 208\n",
    "\n",
    "plt.imshow(train_x[idx_image])\n"
   ]
  },
  {
   "cell_type": "markdown",
   "metadata": {},
   "source": [
    "# Reshaping and standardizing the data"
   ]
  },
  {
   "cell_type": "code",
   "execution_count": 42,
   "metadata": {},
   "outputs": [
    {
     "name": "stdout",
     "output_type": "stream",
     "text": [
      "Shape of Train set Before... Data-->(209, 64, 64, 3), label-->(209,)\n",
      "Shape of Test set Before... Data-->(50, 64, 64, 3), label-->(50,)\n",
      "\n",
      "Shape of Train set After... Data-->(12288, 209), label-->(1, 209)\n",
      "Shape of Test set After... Data-->(12288, 50), label-->(1, 50)\n"
     ]
    }
   ],
   "source": [
    "# Falttening the images\n",
    "\n",
    "train_x_faltten = train_x.reshape(train_x.shape[0], -1).T\n",
    "test_x_faltten = test_x.reshape(test_x.shape[0], -1).T\n",
    "\n",
    "train_label = train_y.reshape(1, train_y.shape[0])\n",
    "test_label = test_y.reshape(1, test_y.shape[0])\n",
    "\n",
    "# Standardizing the flatten image\n",
    "train_data = train_x_faltten / 255\n",
    "test_data = test_x_faltten / 255\n",
    "\n",
    "print(f'Shape of Train set Before... Data-->{train_x.shape}, label-->{train_y.shape}')\n",
    "print(f'Shape of Test set Before... Data-->{test_x.shape}, label-->{test_y.shape}')\n",
    "\n",
    "print(f'\\nShape of Train set After... Data-->{train_data.shape}, label-->{train_label.shape}')\n",
    "print(f'Shape of Test set After... Data-->{test_data.shape}, label-->{test_label.shape}')\n"
   ]
  },
  {
   "cell_type": "markdown",
   "metadata": {},
   "source": [
    "# Training our Deep Neural Net with the images"
   ]
  },
  {
   "cell_type": "code",
   "execution_count": 63,
   "metadata": {
    "scrolled": false
   },
   "outputs": [
    {
     "name": "stdout",
     "output_type": "stream",
     "text": [
      "Cost after 0th iterations = 0.248231825804116\n",
      "Cost after 100th iterations = 0.248231825804116\n",
      "Cost after 200th iterations = 0.248231825804116\n",
      "Total time taken = 10.744340419769287Sec.\n",
      "\n",
      "Training Accuracy-->\n",
      "Accuracy : 65.55023923444976%\n"
     ]
    },
    {
     "data": {
      "image/png": "[encoded data removed]",
      "text/plain": [
       "<Figure size 360x288 with 1 Axes>"
      ]
     },
     "metadata": {
      "needs_background": "light"
     },
     "output_type": "display_data"
    }
   ],
   "source": [
    "# Training the model\n",
    "\n",
    "prediction = Deep_Net(train_data, train_label, layer_dims = [12288, 8, 1], learning_rate = 0.00001, num_iterations = 200)\n",
    "\n",
    "#print('\\n\\n', prediction)"
   ]
  }
 ],
 "metadata": {
  "kernelspec": {
   "display_name": "Python 3",
   "language": "python",
   "name": "python3"
  },
  "language_info": {
   "codemirror_mode": {
    "name": "ipython",
    "version": 3
   },
   "file_extension": ".py",
   "mimetype": "text/x-python",
   "name": "python",
   "nbconvert_exporter": "python",
   "pygments_lexer": "ipython3",
   "version": "3.7.3"
  }
 },
 "nbformat": 4,
 "nbformat_minor": 2
}
